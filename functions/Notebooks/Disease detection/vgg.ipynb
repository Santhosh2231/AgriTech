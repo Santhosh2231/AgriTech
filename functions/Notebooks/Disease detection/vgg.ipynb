{
 "cells": [
  {
   "cell_type": "code",
   "execution_count": 1,
   "id": "331db84d",
   "metadata": {},
   "outputs": [],
   "source": [
    "import tensorflow as tf\n",
    "\n",
    "def vgg22(input_shape, num_classes):\n",
    "  model = tf.keras.Sequential()\n",
    "\n",
    "  # Block 1\n",
    "  model.add(tf.keras.layers.Conv2D(64, (3, 3), padding='same', input_shape=input_shape, activation='relu'))\n",
    "  model.add(tf.keras.layers.Conv2D(64, (3, 3), padding='same', activation='relu'))\n",
    "  model.add(tf.keras.layers.MaxPooling2D((2, 2)))\n",
    "\n",
    "  # Block 2\n",
    "  model.add(tf.keras.layers.Conv2D(128, (3, 3), padding='same', activation='relu'))\n",
    "  model.add(tf.keras.layers.Conv2D(128, (3, 3), padding='same', activation='relu'))\n",
    "  model.add(tf.keras.layers.MaxPooling2D((2, 2)))\n",
    "\n",
    "  # Block 3\n",
    "  model.add(tf.keras.layers.Conv2D(256, (3, 3), padding='same', activation='relu'))\n",
    "  model.add(tf.keras.layers.Conv2D(256, (3, 3), padding='same', activation='relu'))\n",
    "  model.add(tf.keras.layers.Conv2D(256, (3, 3), padding='same', activation='relu'))\n",
    "  model.add(tf.keras.layers.MaxPooling2D((2, 2)))\n",
    "\n",
    "  # Block 4\n",
    "  model.add(tf.keras.layers.Conv2D(512, (3, 3), padding='same', activation='relu'))\n",
    "  model.add(tf.keras.layers.Conv2D(512, (3, 3), padding='same', activation='relu'))\n",
    "  model.add(tf.keras.layers.Conv2D(512, (3, 3), padding='same', activation='relu'))\n",
    "  model.add(tf.keras.layers.MaxPooling2D((2, 2)))\n",
    "\n",
    "  # Block 5\n",
    "  model.add(tf.keras.layers.Conv2D(512, (3, 3), padding='same', activation='relu'))\n",
    "  model.add(tf.keras.layers.Conv2D(512, (3, 3), padding='same', activation='relu'))\n",
    "  model.add(tf.keras.layers.Conv2D(512, (3, 3), padding='same', activation='relu'))\n",
    "  model.add(tf.keras.layers.MaxPooling2D((2, 2)))\n",
    "\n",
    "  # Classification block\n",
    "  model.add(tf.keras.layers.Flatten())\n",
    "  model.add(tf.keras.layers.Dense(4096, activation='relu'))\n",
    "  model.add(tf.keras.layers.Dense(4096, activation='relu'))\n",
    "  model.add(tf.keras.layers.Dense(num_classes, activation='softmax'))\n"
   ]
  },
  {
   "cell_type": "code",
   "execution_count": null,
   "id": "e4ebde5b",
   "metadata": {},
   "outputs": [],
   "source": [
    "# Create the model\n",
    "input_shape = (224, 224, 3)  # Assume input images are 224x224 and have 3 channels (RGB)\n",
    "num_classes = 1000  # Number of classes in the classification task\n",
    "model = vgg22(input_shape, num_classes)\n",
    "\n",
    "# Compile the model\n",
    "model.compile(optimizer='adam', \n",
    "              loss='categorical_crossentropy', \n",
    "              metrics=['accuracy'])"
   ]
  },
  {
   "cell_type": "code",
   "execution_count": null,
   "id": "b7c9c7b2",
   "metadata": {},
   "outputs": [],
   "source": [
    "# Fit the model to the training data\n",
    "model.fit(x_train, y_train, batch_size=32, epochs=10)\n",
    "\n",
    "# Evaluate the model on the validation data\n",
    "val_loss, val_acc = model.evaluate(x_val, y_val)\n",
    "\n",
    "# Make predictions on new data\n",
    "predictions = model.predict(x_test)"
   ]
  },
  {
   "cell_type": "markdown",
   "id": "e0e54a4f",
   "metadata": {},
   "source": [
    "# AlexNet"
   ]
  },
  {
   "cell_type": "code",
   "execution_count": 2,
   "id": "eea2a58c",
   "metadata": {},
   "outputs": [],
   "source": [
    "import tensorflow as tf\n",
    "\n",
    "def alexnet(input_shape, num_classes):\n",
    "  model = tf.keras.Sequential()\n",
    "\n",
    "  # Block 1\n",
    "  model.add(tf.keras.layers.Conv2D(96, (11, 11), strides=(4, 4), padding='same', input_shape=input_shape, activation='relu'))\n",
    "  model.add(tf.keras.layers.MaxPooling2D((3, 3), strides=(2, 2)))\n",
    "\n",
    "  # Block 2\n",
    "  model.add(tf.keras.layers.Conv2D(256, (5, 5), padding='same', activation='relu'))\n",
    "  model.add(tf.keras.layers.MaxPooling2D((3, 3), strides=(2, 2)))\n",
    "\n",
    "  # Block 3\n",
    "  model.add(tf.keras.layers.Conv2D(384, (3, 3), padding='same', activation='relu'))\n",
    "  model.add(tf.keras.layers.Conv2D(384, (3, 3), padding='same', activation='relu'))\n",
    "  model.add(tf.keras.layers.Conv2D(256, (3, 3), padding='same', activation='relu'))\n",
    "  model.add(tf.keras.layers.MaxPooling2D((3, 3), strides=(2, 2)))\n",
    "\n",
    "  # Block 4\n",
    "  model.add(tf.keras.layers.Flatten())\n",
    "  model.add(tf.keras.layers.Dense(4096, activation='relu'))\n",
    "  model.add(tf.keras.layers.Dropout(0.5))\n",
    "\n",
    "  # Block 5\n",
    "  model.add(tf.keras.layers.Dense(4096, activation='relu'))\n",
    "  model.add(tf.keras.layers.Dropout(0.5))\n",
    "\n",
    "  # Classification block\n",
    "  model.add(tf.keras.layers.Dense(num_classes, activation='softmax'))\n",
    "\n",
    "  return model\n"
   ]
  },
  {
   "cell_type": "markdown",
   "id": "48c70775",
   "metadata": {},
   "source": [
    "# RESNET"
   ]
  },
  {
   "cell_type": "code",
   "execution_count": 3,
   "id": "e8b10e5a",
   "metadata": {},
   "outputs": [],
   "source": [
    "import tensorflow as tf\n",
    "\n",
    "def resnet(input_shape, num_classes, num_filters=64, kernel_size=3, pool_size=2, strides=1, activation='relu'):\n",
    "  model = tf.keras.Sequential()\n",
    "\n",
    "  # First convolutional layer\n",
    "  model.add(tf.keras.layers.Conv2D(num_filters, kernel_size, padding='same', input_shape=input_shape, activation=activation))\n",
    "\n",
    "  # First residual block\n",
    "  model.add(tf.keras.layers.Conv2D(num_filters, kernel_size, padding='same', activation=activation))\n",
    "  model.add(tf.keras.layers.Conv2D(num_filters, kernel_size, padding='same', activation=activation))\n",
    "  model.add(tf.keras.layers.Add())\n",
    "\n",
    "  # Second residual block\n",
    "  model.add(tf.keras.layers.Conv2D(num_filters, kernel_size, padding='same', activation=activation))\n",
    "  model.add(tf.keras.layers.Conv2D(num_filters, kernel_size, padding='same', activation=activation))\n",
    "  model.add(tf.keras.layers.Add())\n",
    "\n",
    "  # Pooling layer\n",
    "  model.add(tf.keras.layers.MaxPooling2D(pool_size=pool_size, strides=strides))\n",
    "\n",
    "  # Classification block\n",
    "  model.add(tf.keras.layers.Flatten())\n",
    "  model.add(tf.keras.layers.Dense(num_classes, activation='softmax'))\n",
    "\n",
    "  return model\n"
   ]
  },
  {
   "cell_type": "code",
   "execution_count": null,
   "id": "8197b768",
   "metadata": {},
   "outputs": [],
   "source": []
  }
 ],
 "metadata": {
  "kernelspec": {
   "display_name": "Python 3 (ipykernel)",
   "language": "python",
   "name": "python3"
  },
  "language_info": {
   "codemirror_mode": {
    "name": "ipython",
    "version": 3
   },
   "file_extension": ".py",
   "mimetype": "text/x-python",
   "name": "python",
   "nbconvert_exporter": "python",
   "pygments_lexer": "ipython3",
   "version": "3.9.7"
  }
 },
 "nbformat": 4,
 "nbformat_minor": 5
}
