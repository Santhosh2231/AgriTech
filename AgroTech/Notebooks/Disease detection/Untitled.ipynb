{
 "cells": [
  {
   "cell_type": "markdown",
   "id": "1874c627",
   "metadata": {},
   "source": [
    "# Image Augmentation\n"
   ]
  },
  {
   "cell_type": "code",
   "execution_count": 213,
   "id": "2df0072b",
   "metadata": {},
   "outputs": [],
   "source": [
    "from tensorflow.keras.preprocessing.image import ImageDataGenerator\n",
    "from tensorflow.keras.preprocessing import image\n",
    "import numpy as np"
   ]
  },
  {
   "cell_type": "code",
   "execution_count": 197,
   "id": "73b81b7b",
   "metadata": {},
   "outputs": [],
   "source": [
    "train_datagen = ImageDataGenerator(rescale = 1./255,shear_range = 0.2,zoom_range = 0.2,horizontal_flip = True)\n",
    "test_datagen = ImageDataGenerator(rescale = 1./255)"
   ]
  },
  {
   "cell_type": "code",
   "execution_count": 198,
   "id": "28ed1b68",
   "metadata": {},
   "outputs": [],
   "source": [
    "def train_test_dataset(train_path,test_path):\n",
    "    print(train_path)\n",
    "    x_train = train_datagen.flow_from_directory(train_path,target_size = (128,128),batch_size=100,class_mode = 'categorical')\n",
    "    x_test = test_datagen.flow_from_directory(test_path,target_size = (128,128),batch_size=10,class_mode = 'categorical')\n",
    "    return x_train,x_test"
   ]
  },
  {
   "cell_type": "markdown",
   "id": "59ce9485",
   "metadata": {},
   "source": [
    "# Pepper"
   ]
  },
  {
   "cell_type": "code",
   "execution_count": 216,
   "id": "f0847caa",
   "metadata": {},
   "outputs": [
    {
     "name": "stdout",
     "output_type": "stream",
     "text": [
      "D:\\Academics\\Semester-6\\A2- Artificial Intelligence\\Project\\Implementation\\Dataset\\disease\\tomato\\train\n",
      "Found 5000 images belonging to 5 classes.\n",
      "Found 500 images belonging to 5 classes.\n"
     ]
    },
    {
     "data": {
      "text/plain": [
       "{'Tomato___Bacterial_spot': 0,\n",
       " 'Tomato___Late_blight': 1,\n",
       " 'Tomato___Leaf_Mold': 2,\n",
       " 'Tomato___healthy': 3,\n",
       " 'Tomato___septoria_leaf_spot': 4}"
      ]
     },
     "execution_count": 216,
     "metadata": {},
     "output_type": "execute_result"
    }
   ],
   "source": [
    "path1=\"D:\\Academics\\Semester-6\\A2- Artificial Intelligence\\Project\\Implementation\\Dataset\\disease\\\\tomato\\\\train\"\n",
    "path2=\"D:\\Academics\\Semester-6\\A2- Artificial Intelligence\\Project\\Implementation\\Dataset\\disease\\\\tomato\\\\test\"\n",
    "x_train_tomato,x_test_tomato = train_test_dataset(path1,path2)\n",
    "x_train_tomato.class_indices"
   ]
  },
  {
   "cell_type": "code",
   "execution_count": 222,
   "id": "a029abd4",
   "metadata": {},
   "outputs": [],
   "source": [
    "from keras.models import Sequential\n",
    "from keras.layers import Dense\n",
    "from keras.layers import Convolution2D\n",
    "from keras.layers import MaxPooling2D\n",
    "from keras.layers import Flatten"
   ]
  },
  {
   "cell_type": "code",
   "execution_count": 223,
   "id": "09b85379",
   "metadata": {},
   "outputs": [],
   "source": [
    "model = Sequential()"
   ]
  },
  {
   "cell_type": "code",
   "execution_count": 224,
   "id": "edeacad2",
   "metadata": {},
   "outputs": [],
   "source": [
    "model.add(Convolution2D(32,(3,3),input_shape=(128,128,3),activation='relu'))\n",
    "model.add(MaxPooling2D(pool_size=(2,2)))\n",
    "model.add(Flatten())\n",
    "# model.add(Dense(20,activation=\"relu\"))\n",
    "model.add(Dense(5,activation = 'softmax'))\n",
    "model.compile(loss='categorical_crossentropy',optimizer='adam',metrics=['accuracy'])"
   ]
  },
  {
   "cell_type": "code",
   "execution_count": 225,
   "id": "574188c2",
   "metadata": {},
   "outputs": [
    {
     "name": "stdout",
     "output_type": "stream",
     "text": [
      "Model: \"sequential_30\"\n",
      "_________________________________________________________________\n",
      " Layer (type)                Output Shape              Param #   \n",
      "=================================================================\n",
      " conv2d_33 (Conv2D)          (None, 126, 126, 32)      896       \n",
      "                                                                 \n",
      " max_pooling2d_30 (MaxPoolin  (None, 63, 63, 32)       0         \n",
      " g2D)                                                            \n",
      "                                                                 \n",
      " flatten_30 (Flatten)        (None, 127008)            0         \n",
      "                                                                 \n",
      " dense_69 (Dense)            (None, 5)                 635045    \n",
      "                                                                 \n",
      "=================================================================\n",
      "Total params: 635,941\n",
      "Trainable params: 635,941\n",
      "Non-trainable params: 0\n",
      "_________________________________________________________________\n"
     ]
    }
   ],
   "source": [
    "model.summary()"
   ]
  },
  {
   "cell_type": "code",
   "execution_count": 226,
   "id": "5d41463c",
   "metadata": {},
   "outputs": [
    {
     "name": "stdout",
     "output_type": "stream",
     "text": [
      "Epoch 1/10\n",
      "10/10 [==============================] - 17s 1s/step - loss: 9.7047 - accuracy: 0.2040 - val_loss: 4.0127 - val_accuracy: 0.3000\n",
      "Epoch 2/10\n",
      "10/10 [==============================] - 12s 1s/step - loss: 2.6332 - accuracy: 0.2300 - val_loss: 1.6604 - val_accuracy: 0.3160\n",
      "Epoch 3/10\n",
      "10/10 [==============================] - 13s 1s/step - loss: 1.5098 - accuracy: 0.2870 - val_loss: 1.4379 - val_accuracy: 0.3100\n",
      "Epoch 4/10\n",
      "10/10 [==============================] - 12s 1s/step - loss: 1.3746 - accuracy: 0.4190 - val_loss: 1.2956 - val_accuracy: 0.3880\n",
      "Epoch 5/10\n",
      "10/10 [==============================] - 12s 1s/step - loss: 1.1648 - accuracy: 0.5330 - val_loss: 1.1735 - val_accuracy: 0.5160\n",
      "Epoch 6/10\n",
      "10/10 [==============================] - 12s 1s/step - loss: 0.9862 - accuracy: 0.6410 - val_loss: 0.9812 - val_accuracy: 0.6000\n",
      "Epoch 7/10\n",
      "10/10 [==============================] - 12s 1s/step - loss: 0.9292 - accuracy: 0.6430 - val_loss: 0.8330 - val_accuracy: 0.7040\n",
      "Epoch 8/10\n",
      "10/10 [==============================] - 12s 1s/step - loss: 0.8108 - accuracy: 0.7360 - val_loss: 0.9674 - val_accuracy: 0.5980\n",
      "Epoch 9/10\n",
      "10/10 [==============================] - 12s 1s/step - loss: 0.7093 - accuracy: 0.7470 - val_loss: 0.6637 - val_accuracy: 0.7560\n",
      "Epoch 10/10\n",
      "10/10 [==============================] - 11s 1s/step - loss: 0.6929 - accuracy: 0.7560 - val_loss: 0.5873 - val_accuracy: 0.7840\n"
     ]
    },
    {
     "data": {
      "text/plain": [
       "<keras.callbacks.History at 0x160201fdcd0>"
      ]
     },
     "execution_count": 226,
     "metadata": {},
     "output_type": "execute_result"
    }
   ],
   "source": [
    "model.fit(x_train_tomato,steps_per_epoch=10,epochs=10,validation_data=x_test_tomato,validation_steps=len(x_test_tomato))"
   ]
  },
  {
   "cell_type": "code",
   "execution_count": 227,
   "id": "e4c3c0a9",
   "metadata": {},
   "outputs": [],
   "source": [
    "model.save(\"tomato.h5\")"
   ]
  },
  {
   "cell_type": "code",
   "execution_count": 228,
   "id": "37013ffc",
   "metadata": {},
   "outputs": [],
   "source": [
    "img = image.load_img(\"D:\\\\Academics\\\\Semester-6\\\\A2- Artificial Intelligence\\\\Project\\\\Implementation\\\\Dataset\\\\disease\\\\tomato\\\\test\\\\Tomato___Late_blight\\\\0dd9d965-d68a-4e47-ba02-ebcadf13c7ae___GHLB2 Leaf 78.1.JPG\",target_size=(128,128))\n",
    "x=image.img_to_array(img)\n",
    "x=np.expand_dims(x,axis=0)"
   ]
  },
  {
   "cell_type": "code",
   "execution_count": 229,
   "id": "c25bbd18",
   "metadata": {},
   "outputs": [
    {
     "name": "stdout",
     "output_type": "stream",
     "text": [
      "1/1 [==============================] - 0s 199ms/step\n"
     ]
    },
    {
     "data": {
      "text/plain": [
       "array([3], dtype=int64)"
      ]
     },
     "execution_count": 229,
     "metadata": {},
     "output_type": "execute_result"
    }
   ],
   "source": [
    "np.argmax(model.predict(x),axis=1)\n"
   ]
  },
  {
   "cell_type": "code",
   "execution_count": 181,
   "id": "96b2987a",
   "metadata": {},
   "outputs": [
    {
     "name": "stdout",
     "output_type": "stream",
     "text": [
      "D:\\Academics\\Semester-6\\A2- Artificial Intelligence\\Project\\Implementation\\Dataset\\disease\\apple\\train\n",
      "Found 1640 images belonging to 2 classes.\n",
      "Found 626 images belonging to 2 classes.\n"
     ]
    },
    {
     "data": {
      "text/plain": [
       "{'Apple___Black_rot': 0, 'Apple___healthy': 1}"
      ]
     },
     "execution_count": 181,
     "metadata": {},
     "output_type": "execute_result"
    }
   ],
   "source": [
    "path1=\"D:\\Academics\\Semester-6\\A2- Artificial Intelligence\\Project\\Implementation\\Dataset\\disease\\\\apple\\\\train\"\n",
    "path2=\"D:\\Academics\\Semester-6\\A2- Artificial Intelligence\\Project\\Implementation\\Dataset\\disease\\\\apple\\\\test\"\n",
    "x_train_apple,x_test_apple = train_test_dataset(path1,path2)\n",
    "x_train_apple.class_indices"
   ]
  },
  {
   "cell_type": "code",
   "execution_count": 158,
   "id": "f7422ee7",
   "metadata": {},
   "outputs": [],
   "source": [
    "model1 = Sequential()\n",
    "model1.add(Convolution2D(32,(3,3),input_shape=(128,128,3),activation='relu'))\n",
    "model1.add(MaxPooling2D(pool_size=(2,2)))\n",
    "model1.add(Flatten())\n",
    "model1.add(Dense(2,activation = 'softmax'))\n",
    "model1.compile(loss='categorical_crossentropy',optimizer='adam',metrics=['accuracy'])"
   ]
  },
  {
   "cell_type": "code",
   "execution_count": 159,
   "id": "04c6b62a",
   "metadata": {},
   "outputs": [
    {
     "name": "stdout",
     "output_type": "stream",
     "text": [
      "Epoch 1/10\n",
      "17/17 [==============================] - 20s 1s/step - loss: 1.8112 - accuracy: 0.6671 - val_loss: 0.4045 - val_accuracy: 0.8003\n",
      "Epoch 2/10\n",
      "17/17 [==============================] - 17s 1s/step - loss: 0.3826 - accuracy: 0.8415 - val_loss: 0.2551 - val_accuracy: 0.9042\n",
      "Epoch 3/10\n",
      "17/17 [==============================] - 18s 1s/step - loss: 0.2359 - accuracy: 0.9098 - val_loss: 0.1499 - val_accuracy: 0.9425\n",
      "Epoch 4/10\n",
      "17/17 [==============================] - 17s 1s/step - loss: 0.1754 - accuracy: 0.9305 - val_loss: 0.1264 - val_accuracy: 0.9633\n",
      "Epoch 5/10\n",
      "17/17 [==============================] - 18s 1s/step - loss: 0.1408 - accuracy: 0.9433 - val_loss: 0.1142 - val_accuracy: 0.9696\n",
      "Epoch 6/10\n",
      "17/17 [==============================] - 17s 1s/step - loss: 0.1237 - accuracy: 0.9549 - val_loss: 0.0920 - val_accuracy: 0.9665\n",
      "Epoch 7/10\n",
      "17/17 [==============================] - 17s 990ms/step - loss: 0.1230 - accuracy: 0.9555 - val_loss: 0.1362 - val_accuracy: 0.9569\n",
      "Epoch 8/10\n",
      "17/17 [==============================] - 17s 988ms/step - loss: 0.0988 - accuracy: 0.9640 - val_loss: 0.0816 - val_accuracy: 0.9808\n",
      "Epoch 9/10\n",
      "17/17 [==============================] - 18s 1s/step - loss: 0.0866 - accuracy: 0.9695 - val_loss: 0.0710 - val_accuracy: 0.9792\n",
      "Epoch 10/10\n",
      "17/17 [==============================] - 17s 1s/step - loss: 0.0871 - accuracy: 0.9652 - val_loss: 0.0844 - val_accuracy: 0.9744\n"
     ]
    },
    {
     "data": {
      "text/plain": [
       "<keras.callbacks.History at 0x15f16b1d6a0>"
      ]
     },
     "execution_count": 159,
     "metadata": {},
     "output_type": "execute_result"
    }
   ],
   "source": [
    "model1.fit(x_train_apple,steps_per_epoch=len(x_train_apple),epochs=10,validation_data=x_test_apple,validation_steps=len(x_test_apple))"
   ]
  },
  {
   "cell_type": "code",
   "execution_count": 160,
   "id": "15a6e9f1",
   "metadata": {},
   "outputs": [],
   "source": [
    "model1.save(\"apple.h5\")"
   ]
  },
  {
   "cell_type": "code",
   "execution_count": 180,
   "id": "c717c116",
   "metadata": {},
   "outputs": [
    {
     "name": "stdout",
     "output_type": "stream",
     "text": [
      "D:\\Academics\\Semester-6\\A2- Artificial Intelligence\\Project\\Implementation\\Dataset\\disease\\corn\\train\n",
      "Found 1629 images belonging to 2 classes.\n",
      "Found 518 images belonging to 2 classes.\n"
     ]
    },
    {
     "data": {
      "text/plain": [
       "{'Corn_(maize)___Northern_Leaf_Blight': 0, 'Corn_(maize)___healthy': 1}"
      ]
     },
     "execution_count": 180,
     "metadata": {},
     "output_type": "execute_result"
    }
   ],
   "source": [
    "path1=\"D:\\Academics\\Semester-6\\A2- Artificial Intelligence\\Project\\Implementation\\Dataset\\disease\\\\corn\\\\train\"\n",
    "path2=\"D:\\Academics\\Semester-6\\A2- Artificial Intelligence\\Project\\Implementation\\Dataset\\disease\\\\corn\\\\test\"\n",
    "x_train_corn,x_test_corn = train_test_dataset(path1,path2)\n",
    "x_train_corn.class_indices"
   ]
  },
  {
   "cell_type": "code",
   "execution_count": 162,
   "id": "9b4d9920",
   "metadata": {},
   "outputs": [],
   "source": [
    "model2 = Sequential()\n",
    "model2.add(Convolution2D(32,(3,3),input_shape=(128,128,3),activation='relu'))\n",
    "model2.add(MaxPooling2D(pool_size=(2,2)))\n",
    "model2.add(Flatten())\n",
    "model2.add(Dense(2,activation = 'softmax'))\n",
    "model2.compile(loss='categorical_crossentropy',optimizer='adam',metrics=['accuracy'])"
   ]
  },
  {
   "cell_type": "code",
   "execution_count": 163,
   "id": "8e49cd31",
   "metadata": {},
   "outputs": [
    {
     "name": "stdout",
     "output_type": "stream",
     "text": [
      "Epoch 1/10\n",
      "17/17 [==============================] - 19s 1s/step - loss: 1.6690 - accuracy: 0.5979 - val_loss: 0.3755 - val_accuracy: 0.8320\n",
      "Epoch 2/10\n",
      "17/17 [==============================] - 16s 964ms/step - loss: 0.2689 - accuracy: 0.8809 - val_loss: 0.1034 - val_accuracy: 0.9710\n",
      "Epoch 3/10\n",
      "17/17 [==============================] - 16s 965ms/step - loss: 0.1200 - accuracy: 0.9595 - val_loss: 0.2856 - val_accuracy: 0.8784\n",
      "Epoch 4/10\n",
      "17/17 [==============================] - 17s 979ms/step - loss: 0.0636 - accuracy: 0.9834 - val_loss: 0.0968 - val_accuracy: 0.9653\n",
      "Epoch 5/10\n",
      "17/17 [==============================] - 18s 1s/step - loss: 0.0496 - accuracy: 0.9840 - val_loss: 0.0721 - val_accuracy: 0.9768\n",
      "Epoch 6/10\n",
      "17/17 [==============================] - 17s 983ms/step - loss: 0.0421 - accuracy: 0.9883 - val_loss: 0.2579 - val_accuracy: 0.9035\n",
      "Epoch 7/10\n",
      "17/17 [==============================] - 16s 957ms/step - loss: 0.0354 - accuracy: 0.9932 - val_loss: 0.0866 - val_accuracy: 0.9768\n",
      "Epoch 8/10\n",
      "17/17 [==============================] - 16s 967ms/step - loss: 0.0286 - accuracy: 0.9920 - val_loss: 0.0917 - val_accuracy: 0.9730\n",
      "Epoch 9/10\n",
      "17/17 [==============================] - 17s 969ms/step - loss: 0.0266 - accuracy: 0.9926 - val_loss: 0.0874 - val_accuracy: 0.9788\n",
      "Epoch 10/10\n",
      "17/17 [==============================] - 16s 960ms/step - loss: 0.0229 - accuracy: 0.9951 - val_loss: 0.0852 - val_accuracy: 0.9788\n"
     ]
    },
    {
     "data": {
      "text/plain": [
       "<keras.callbacks.History at 0x15f16a37bb0>"
      ]
     },
     "execution_count": 163,
     "metadata": {},
     "output_type": "execute_result"
    }
   ],
   "source": [
    "model2.fit(x_train_corn,steps_per_epoch=len(x_train_corn),epochs=10,validation_data=x_test_corn,validation_steps=len(x_test_corn))"
   ]
  },
  {
   "cell_type": "code",
   "execution_count": 164,
   "id": "36fa0375",
   "metadata": {},
   "outputs": [],
   "source": [
    "model2.save(\"corn.h5\")"
   ]
  },
  {
   "cell_type": "code",
   "execution_count": 179,
   "id": "d5f1be40",
   "metadata": {},
   "outputs": [
    {
     "name": "stdout",
     "output_type": "stream",
     "text": [
      "D:\\Academics\\Semester-6\\A2- Artificial Intelligence\\Project\\Implementation\\Dataset\\disease\\peach\\train\n",
      "Found 2115 images belonging to 2 classes.\n",
      "Found 542 images belonging to 2 classes.\n"
     ]
    },
    {
     "data": {
      "text/plain": [
       "{'Peach___Bacterial_spot': 0, 'Peach___healthy': 1}"
      ]
     },
     "execution_count": 179,
     "metadata": {},
     "output_type": "execute_result"
    }
   ],
   "source": [
    "path1=\"D:\\Academics\\Semester-6\\A2- Artificial Intelligence\\Project\\Implementation\\Dataset\\disease\\\\peach\\\\train\"\n",
    "path2=\"D:\\Academics\\Semester-6\\A2- Artificial Intelligence\\Project\\Implementation\\Dataset\\disease\\\\peach\\\\test\"\n",
    "x_train_peach,x_test_peach = train_test_dataset(path1,path2)\n",
    "x_train_peach.class_indices"
   ]
  },
  {
   "cell_type": "code",
   "execution_count": 166,
   "id": "c3781fba",
   "metadata": {},
   "outputs": [],
   "source": [
    "model3 = Sequential()\n",
    "model3.add(Convolution2D(32,(3,3),input_shape=(128,128,3),activation='relu'))\n",
    "model3.add(MaxPooling2D(pool_size=(2,2)))\n",
    "model3.add(Flatten())\n",
    "model3.add(Dense(2,activation = 'softmax'))\n",
    "model3.compile(loss='categorical_crossentropy',optimizer='adam',metrics=['accuracy'])"
   ]
  },
  {
   "cell_type": "code",
   "execution_count": 167,
   "id": "5a9fe02a",
   "metadata": {},
   "outputs": [
    {
     "name": "stdout",
     "output_type": "stream",
     "text": [
      "Epoch 1/10\n",
      "22/22 [==============================] - 24s 1s/step - loss: 1.1361 - accuracy: 0.7589 - val_loss: 0.4562 - val_accuracy: 0.7915\n",
      "Epoch 2/10\n",
      "22/22 [==============================] - 21s 987ms/step - loss: 0.2430 - accuracy: 0.8988 - val_loss: 0.2079 - val_accuracy: 0.9299\n",
      "Epoch 3/10\n",
      "22/22 [==============================] - 21s 945ms/step - loss: 0.1398 - accuracy: 0.9504 - val_loss: 0.2883 - val_accuracy: 0.9077\n",
      "Epoch 4/10\n",
      "22/22 [==============================] - 21s 944ms/step - loss: 0.1134 - accuracy: 0.9551 - val_loss: 0.1450 - val_accuracy: 0.9520\n",
      "Epoch 5/10\n",
      "22/22 [==============================] - 21s 940ms/step - loss: 0.0752 - accuracy: 0.9759 - val_loss: 0.1742 - val_accuracy: 0.9520\n",
      "Epoch 6/10\n",
      "22/22 [==============================] - 21s 949ms/step - loss: 0.1049 - accuracy: 0.9612 - val_loss: 0.0797 - val_accuracy: 0.9686\n",
      "Epoch 7/10\n",
      "22/22 [==============================] - 21s 931ms/step - loss: 0.0706 - accuracy: 0.9797 - val_loss: 0.2009 - val_accuracy: 0.9465\n",
      "Epoch 8/10\n",
      "22/22 [==============================] - 21s 935ms/step - loss: 0.0519 - accuracy: 0.9830 - val_loss: 0.1213 - val_accuracy: 0.9594\n",
      "Epoch 9/10\n",
      "22/22 [==============================] - 22s 993ms/step - loss: 0.0498 - accuracy: 0.9839 - val_loss: 0.1665 - val_accuracy: 0.9557\n",
      "Epoch 10/10\n",
      "22/22 [==============================] - 21s 985ms/step - loss: 0.0489 - accuracy: 0.9839 - val_loss: 0.0615 - val_accuracy: 0.9723\n"
     ]
    },
    {
     "data": {
      "text/plain": [
       "<keras.callbacks.History at 0x15f166c5100>"
      ]
     },
     "execution_count": 167,
     "metadata": {},
     "output_type": "execute_result"
    }
   ],
   "source": [
    "model3.fit(x_train_peach,steps_per_epoch=len(x_train_peach),epochs=10,validation_data=x_test_peach,validation_steps=len(x_test_peach))"
   ]
  },
  {
   "cell_type": "code",
   "execution_count": 168,
   "id": "9ece47e2",
   "metadata": {},
   "outputs": [],
   "source": [
    "model3.save(\"peach.h5\")"
   ]
  },
  {
   "cell_type": "code",
   "execution_count": 178,
   "id": "89575790",
   "metadata": {},
   "outputs": [
    {
     "name": "stdout",
     "output_type": "stream",
     "text": [
      "D:\\Academics\\Semester-6\\A2- Artificial Intelligence\\Project\\Implementation\\Dataset\\disease\\pepper\\train\n",
      "Found 2478 images belonging to 2 classes.\n",
      "Found 765 images belonging to 2 classes.\n"
     ]
    },
    {
     "data": {
      "text/plain": [
       "{'Pepper,_bell___Bacterial_spot': 0, 'Pepper,_bell___healthy': 1}"
      ]
     },
     "execution_count": 178,
     "metadata": {},
     "output_type": "execute_result"
    }
   ],
   "source": [
    "path1=\"D:\\Academics\\Semester-6\\A2- Artificial Intelligence\\Project\\Implementation\\Dataset\\disease\\\\pepper\\\\train\"\n",
    "path2=\"D:\\Academics\\Semester-6\\A2- Artificial Intelligence\\Project\\Implementation\\Dataset\\disease\\\\pepper\\\\test\"\n",
    "x_train_pepper,x_test_pepper = train_test_dataset(path1,path2)\n",
    "x_train_pepper.class_indices"
   ]
  },
  {
   "cell_type": "code",
   "execution_count": 170,
   "id": "4408f550",
   "metadata": {},
   "outputs": [],
   "source": [
    "model4 = Sequential()\n",
    "model4.add(Convolution2D(32,(3,3),input_shape=(128,128,3),activation='relu'))\n",
    "model4.add(MaxPooling2D(pool_size=(2,2)))\n",
    "model4.add(Flatten())\n",
    "model4.add(Dense(2,activation = 'softmax'))\n",
    "model4.compile(loss='categorical_crossentropy',optimizer='adam',metrics=['accuracy'])"
   ]
  },
  {
   "cell_type": "code",
   "execution_count": 171,
   "id": "86a3399f",
   "metadata": {},
   "outputs": [
    {
     "name": "stdout",
     "output_type": "stream",
     "text": [
      "Epoch 1/10\n",
      "25/25 [==============================] - 29s 1s/step - loss: 2.4439 - accuracy: 0.5646 - val_loss: 0.6513 - val_accuracy: 0.6405\n",
      "Epoch 2/10\n",
      "25/25 [==============================] - 25s 994ms/step - loss: 0.4763 - accuracy: 0.7954 - val_loss: 0.4070 - val_accuracy: 0.8170\n",
      "Epoch 3/10\n",
      "25/25 [==============================] - 25s 992ms/step - loss: 0.3106 - accuracy: 0.8688 - val_loss: 0.2959 - val_accuracy: 0.8562\n",
      "Epoch 4/10\n",
      "25/25 [==============================] - 25s 999ms/step - loss: 0.2722 - accuracy: 0.8874 - val_loss: 0.4586 - val_accuracy: 0.8105\n",
      "Epoch 5/10\n",
      "25/25 [==============================] - 25s 993ms/step - loss: 0.2342 - accuracy: 0.9064 - val_loss: 0.2152 - val_accuracy: 0.8941\n",
      "Epoch 6/10\n",
      "25/25 [==============================] - 25s 994ms/step - loss: 0.2399 - accuracy: 0.9003 - val_loss: 0.2994 - val_accuracy: 0.8693\n",
      "Epoch 7/10\n",
      "25/25 [==============================] - 25s 990ms/step - loss: 0.2080 - accuracy: 0.9189 - val_loss: 0.2059 - val_accuracy: 0.9137\n",
      "Epoch 8/10\n",
      "25/25 [==============================] - 25s 999ms/step - loss: 0.1882 - accuracy: 0.9286 - val_loss: 0.3128 - val_accuracy: 0.8614\n",
      "Epoch 9/10\n",
      "25/25 [==============================] - 25s 1s/step - loss: 0.1946 - accuracy: 0.9189 - val_loss: 0.2586 - val_accuracy: 0.8967\n",
      "Epoch 10/10\n",
      "25/25 [==============================] - 25s 1s/step - loss: 0.1812 - accuracy: 0.9274 - val_loss: 0.2091 - val_accuracy: 0.9150\n"
     ]
    },
    {
     "data": {
      "text/plain": [
       "<keras.callbacks.History at 0x15f4f183d30>"
      ]
     },
     "execution_count": 171,
     "metadata": {},
     "output_type": "execute_result"
    }
   ],
   "source": [
    "model4.fit(x_train_pepper,steps_per_epoch=len(x_train_pepper),epochs=10,validation_data=x_test_pepper,validation_steps=len(x_test_pepper))"
   ]
  },
  {
   "cell_type": "code",
   "execution_count": 172,
   "id": "a33c9075",
   "metadata": {},
   "outputs": [],
   "source": [
    "model4.save(\"pepper.h5\")"
   ]
  },
  {
   "cell_type": "code",
   "execution_count": 183,
   "id": "45a6ca2b",
   "metadata": {},
   "outputs": [
    {
     "name": "stdout",
     "output_type": "stream",
     "text": [
      "D:\\Academics\\Semester-6\\A2- Artificial Intelligence\\Project\\Implementation\\Dataset\\disease\\potato\\train\n",
      "Found 3000 images belonging to 3 classes.\n",
      "Found 642 images belonging to 3 classes.\n"
     ]
    },
    {
     "data": {
      "text/plain": [
       "{'Potato___Early_blight': 0, 'Potato___Late_blight': 1, 'Potato___healthy': 2}"
      ]
     },
     "execution_count": 183,
     "metadata": {},
     "output_type": "execute_result"
    }
   ],
   "source": [
    "path1=\"D:\\Academics\\Semester-6\\A2- Artificial Intelligence\\Project\\Implementation\\Dataset\\disease\\\\potato\\\\train\"\n",
    "path2=\"D:\\Academics\\Semester-6\\A2- Artificial Intelligence\\Project\\Implementation\\Dataset\\disease\\\\potato\\\\test\"\n",
    "x_train_potato,x_test_potato = train_test_dataset(path1,path2)\n",
    "x_train_potato.class_indices"
   ]
  },
  {
   "cell_type": "code",
   "execution_count": 174,
   "id": "4f55a4c2",
   "metadata": {},
   "outputs": [],
   "source": [
    "model5 = Sequential()\n",
    "model5.add(Convolution2D(32,(3,3),input_shape=(128,128,3),activation='relu'))\n",
    "model5.add(MaxPooling2D(pool_size=(2,2)))\n",
    "model5.add(Flatten())\n",
    "model5.add(Dense(3,activation = 'softmax'))\n",
    "model5.compile(loss='categorical_crossentropy',optimizer='adam',metrics=['accuracy'])"
   ]
  },
  {
   "cell_type": "code",
   "execution_count": 175,
   "id": "496a3e96",
   "metadata": {},
   "outputs": [
    {
     "name": "stdout",
     "output_type": "stream",
     "text": [
      "Epoch 1/10\n",
      "30/30 [==============================] - 34s 1s/step - loss: 1.8590 - accuracy: 0.4413 - val_loss: 0.6504 - val_accuracy: 0.6947\n",
      "Epoch 2/10\n",
      "30/30 [==============================] - 31s 1s/step - loss: 0.5556 - accuracy: 0.7733 - val_loss: 0.5530 - val_accuracy: 0.7352\n",
      "Epoch 3/10\n",
      "30/30 [==============================] - 29s 981ms/step - loss: 0.3424 - accuracy: 0.8790 - val_loss: 0.2949 - val_accuracy: 0.8692\n",
      "Epoch 4/10\n",
      "30/30 [==============================] - 30s 985ms/step - loss: 0.2433 - accuracy: 0.9183 - val_loss: 0.2648 - val_accuracy: 0.8847\n",
      "Epoch 5/10\n",
      "30/30 [==============================] - 29s 972ms/step - loss: 0.1855 - accuracy: 0.9437 - val_loss: 0.2778 - val_accuracy: 0.8925\n",
      "Epoch 6/10\n",
      "30/30 [==============================] - 29s 980ms/step - loss: 0.1506 - accuracy: 0.9533 - val_loss: 0.2955 - val_accuracy: 0.8847\n",
      "Epoch 7/10\n",
      "30/30 [==============================] - 30s 992ms/step - loss: 0.1706 - accuracy: 0.9377 - val_loss: 0.3038 - val_accuracy: 0.8723\n",
      "Epoch 8/10\n",
      "30/30 [==============================] - 29s 978ms/step - loss: 0.1165 - accuracy: 0.9683 - val_loss: 0.4617 - val_accuracy: 0.8146\n",
      "Epoch 9/10\n",
      "30/30 [==============================] - 29s 975ms/step - loss: 0.1083 - accuracy: 0.9657 - val_loss: 0.1532 - val_accuracy: 0.9439\n",
      "Epoch 10/10\n",
      "30/30 [==============================] - 30s 987ms/step - loss: 0.1086 - accuracy: 0.9677 - val_loss: 0.6115 - val_accuracy: 0.7757\n"
     ]
    },
    {
     "data": {
      "text/plain": [
       "<keras.callbacks.History at 0x15f52e685e0>"
      ]
     },
     "execution_count": 175,
     "metadata": {},
     "output_type": "execute_result"
    }
   ],
   "source": [
    "model5.fit(x_train_potato,steps_per_epoch=len(x_train_potato),epochs=10,validation_data=x_test_potato,validation_steps=len(x_test_potato))"
   ]
  },
  {
   "cell_type": "code",
   "execution_count": 176,
   "id": "7441c805",
   "metadata": {},
   "outputs": [],
   "source": [
    "model5.save(\"potato.h5\")"
   ]
  },
  {
   "cell_type": "code",
   "execution_count": 193,
   "id": "f0473190",
   "metadata": {},
   "outputs": [
    {
     "name": "stdout",
     "output_type": "stream",
     "text": [
      "D:\\Academics\\Semester-6\\A2- Artificial Intelligence\\Project\\Implementation\\Dataset\\disease\\plant\\train\n",
      "Found 2000 images belonging to 2 classes.\n",
      "Found 200 images belonging to 2 classes.\n"
     ]
    },
    {
     "data": {
      "text/plain": [
       "{'false': 0, 'true': 1}"
      ]
     },
     "execution_count": 193,
     "metadata": {},
     "output_type": "execute_result"
    }
   ],
   "source": [
    "path1=\"D:\\Academics\\Semester-6\\A2- Artificial Intelligence\\Project\\Implementation\\Dataset\\disease\\\\plant\\\\train\"\n",
    "path2=\"D:\\Academics\\Semester-6\\A2- Artificial Intelligence\\Project\\Implementation\\Dataset\\disease\\\\plant\\\\test\"\n",
    "x_train_check,x_test_check = train_test_dataset(path1,path2)\n",
    "x_train_check.class_indices"
   ]
  },
  {
   "cell_type": "code",
   "execution_count": 194,
   "id": "83240a6d",
   "metadata": {},
   "outputs": [],
   "source": [
    "model6 = Sequential()\n",
    "model6.add(Convolution2D(32,(3,3),input_shape=(128,128,3),activation='relu'))\n",
    "model6.add(MaxPooling2D(pool_size=(2,2)))\n",
    "model6.add(Flatten())\n",
    "model6.add(Dense(2,activation = 'softmax'))\n",
    "model6.compile(loss='categorical_crossentropy',optimizer='adam',metrics=['accuracy'])"
   ]
  },
  {
   "cell_type": "code",
   "execution_count": 195,
   "id": "9dd89c55",
   "metadata": {},
   "outputs": [
    {
     "name": "stdout",
     "output_type": "stream",
     "text": [
      "Epoch 1/10\n",
      "20/20 [==============================] - 27s 1s/step - loss: 1.9483 - accuracy: 0.6570 - val_loss: 0.0758 - val_accuracy: 0.9700\n",
      "Epoch 2/10\n",
      "20/20 [==============================] - 21s 1s/step - loss: 0.0844 - accuracy: 0.9775 - val_loss: 0.0384 - val_accuracy: 0.9950\n",
      "Epoch 3/10\n",
      "20/20 [==============================] - 23s 1s/step - loss: 0.0284 - accuracy: 0.9945 - val_loss: 0.0405 - val_accuracy: 0.9950\n",
      "Epoch 4/10\n",
      "20/20 [==============================] - 21s 1s/step - loss: 0.0157 - accuracy: 0.9975 - val_loss: 0.0407 - val_accuracy: 0.9950\n",
      "Epoch 5/10\n",
      "20/20 [==============================] - 20s 988ms/step - loss: 0.0091 - accuracy: 0.9985 - val_loss: 0.0300 - val_accuracy: 0.9950\n",
      "Epoch 6/10\n",
      "20/20 [==============================] - 20s 994ms/step - loss: 0.0053 - accuracy: 0.9995 - val_loss: 0.0454 - val_accuracy: 0.9950\n",
      "Epoch 7/10\n",
      "20/20 [==============================] - 20s 979ms/step - loss: 0.0035 - accuracy: 1.0000 - val_loss: 0.0409 - val_accuracy: 0.9950\n",
      "Epoch 8/10\n",
      "20/20 [==============================] - 20s 978ms/step - loss: 0.0029 - accuracy: 1.0000 - val_loss: 0.0405 - val_accuracy: 0.9950\n",
      "Epoch 9/10\n",
      "20/20 [==============================] - 21s 1s/step - loss: 0.0019 - accuracy: 1.0000 - val_loss: 0.0461 - val_accuracy: 0.9950\n",
      "Epoch 10/10\n",
      "20/20 [==============================] - 20s 995ms/step - loss: 0.0013 - accuracy: 1.0000 - val_loss: 0.0425 - val_accuracy: 0.9950\n"
     ]
    },
    {
     "data": {
      "text/plain": [
       "<keras.callbacks.History at 0x15fa08f9310>"
      ]
     },
     "execution_count": 195,
     "metadata": {},
     "output_type": "execute_result"
    }
   ],
   "source": [
    "model6.fit(x_train_check,steps_per_epoch=len(x_train_check),epochs=10,validation_data=x_test_check,validation_steps=len(x_test_check))"
   ]
  },
  {
   "cell_type": "code",
   "execution_count": 196,
   "id": "f38289b3",
   "metadata": {},
   "outputs": [],
   "source": [
    "model6.save(\"check.h5\")"
   ]
  },
  {
   "cell_type": "code",
   "execution_count": null,
   "id": "d76474af",
   "metadata": {},
   "outputs": [],
   "source": []
  }
 ],
 "metadata": {
  "kernelspec": {
   "display_name": "Python 3 (ipykernel)",
   "language": "python",
   "name": "python3"
  },
  "language_info": {
   "codemirror_mode": {
    "name": "ipython",
    "version": 3
   },
   "file_extension": ".py",
   "mimetype": "text/x-python",
   "name": "python",
   "nbconvert_exporter": "python",
   "pygments_lexer": "ipython3",
   "version": "3.9.7"
  }
 },
 "nbformat": 4,
 "nbformat_minor": 5
}
