{
 "cells": [
  {
   "cell_type": "code",
   "execution_count": 1,
   "id": "60f56156",
   "metadata": {},
   "outputs": [],
   "source": [
    "#\"D:\\Academics\\Semester-6\\A2- Artificial Intelligence\\Project\\Implementation\\Dataset\\Crop_recommendation.csv\""
   ]
  },
  {
   "cell_type": "code",
   "execution_count": 2,
   "id": "7752520c",
   "metadata": {},
   "outputs": [],
   "source": [
    "# libraries\n",
    "import numpy as np\n",
    "import pandas as pd"
   ]
  },
  {
   "cell_type": "code",
   "execution_count": 28,
   "id": "25db8844",
   "metadata": {},
   "outputs": [
    {
     "data": {
      "text/html": [
       "<div>\n",
       "<style scoped>\n",
       "    .dataframe tbody tr th:only-of-type {\n",
       "        vertical-align: middle;\n",
       "    }\n",
       "\n",
       "    .dataframe tbody tr th {\n",
       "        vertical-align: top;\n",
       "    }\n",
       "\n",
       "    .dataframe thead th {\n",
       "        text-align: right;\n",
       "    }\n",
       "</style>\n",
       "<table border=\"1\" class=\"dataframe\">\n",
       "  <thead>\n",
       "    <tr style=\"text-align: right;\">\n",
       "      <th></th>\n",
       "      <th>N</th>\n",
       "      <th>P</th>\n",
       "      <th>K</th>\n",
       "      <th>temperature</th>\n",
       "      <th>humidity</th>\n",
       "      <th>ph</th>\n",
       "      <th>rainfall</th>\n",
       "      <th>label</th>\n",
       "    </tr>\n",
       "  </thead>\n",
       "  <tbody>\n",
       "    <tr>\n",
       "      <th>0</th>\n",
       "      <td>90</td>\n",
       "      <td>42</td>\n",
       "      <td>43</td>\n",
       "      <td>20.879744</td>\n",
       "      <td>82.002744</td>\n",
       "      <td>6.502985</td>\n",
       "      <td>202.935536</td>\n",
       "      <td>rice</td>\n",
       "    </tr>\n",
       "    <tr>\n",
       "      <th>1</th>\n",
       "      <td>85</td>\n",
       "      <td>58</td>\n",
       "      <td>41</td>\n",
       "      <td>21.770462</td>\n",
       "      <td>80.319644</td>\n",
       "      <td>7.038096</td>\n",
       "      <td>226.655537</td>\n",
       "      <td>rice</td>\n",
       "    </tr>\n",
       "    <tr>\n",
       "      <th>2</th>\n",
       "      <td>60</td>\n",
       "      <td>55</td>\n",
       "      <td>44</td>\n",
       "      <td>23.004459</td>\n",
       "      <td>82.320763</td>\n",
       "      <td>7.840207</td>\n",
       "      <td>263.964248</td>\n",
       "      <td>rice</td>\n",
       "    </tr>\n",
       "    <tr>\n",
       "      <th>3</th>\n",
       "      <td>74</td>\n",
       "      <td>35</td>\n",
       "      <td>40</td>\n",
       "      <td>26.491096</td>\n",
       "      <td>80.158363</td>\n",
       "      <td>6.980401</td>\n",
       "      <td>242.864034</td>\n",
       "      <td>rice</td>\n",
       "    </tr>\n",
       "    <tr>\n",
       "      <th>4</th>\n",
       "      <td>78</td>\n",
       "      <td>42</td>\n",
       "      <td>42</td>\n",
       "      <td>20.130175</td>\n",
       "      <td>81.604873</td>\n",
       "      <td>7.628473</td>\n",
       "      <td>262.717340</td>\n",
       "      <td>rice</td>\n",
       "    </tr>\n",
       "  </tbody>\n",
       "</table>\n",
       "</div>"
      ],
      "text/plain": [
       "    N   P   K  temperature   humidity        ph    rainfall label\n",
       "0  90  42  43    20.879744  82.002744  6.502985  202.935536  rice\n",
       "1  85  58  41    21.770462  80.319644  7.038096  226.655537  rice\n",
       "2  60  55  44    23.004459  82.320763  7.840207  263.964248  rice\n",
       "3  74  35  40    26.491096  80.158363  6.980401  242.864034  rice\n",
       "4  78  42  42    20.130175  81.604873  7.628473  262.717340  rice"
      ]
     },
     "execution_count": 28,
     "metadata": {},
     "output_type": "execute_result"
    }
   ],
   "source": [
    "# inspect the dataset\n",
    "df = pd.read_csv(r\"D:\\Academics\\Semester-6\\A2- Artificial Intelligence\\Project\\Implementation\\Dataset\\Crop_recommendation.csv\")\n",
    "X = df.drop(['label'], axis=1)\n",
    "y = df.label\n",
    "df.head()"
   ]
  },
  {
   "cell_type": "code",
   "execution_count": 4,
   "id": "e4ffcb08",
   "metadata": {},
   "outputs": [
    {
     "data": {
      "text/plain": [
       "N              0\n",
       "P              0\n",
       "K              0\n",
       "temperature    0\n",
       "humidity       0\n",
       "ph             0\n",
       "rainfall       0\n",
       "label          0\n",
       "dtype: int64"
      ]
     },
     "execution_count": 4,
     "metadata": {},
     "output_type": "execute_result"
    }
   ],
   "source": [
    "# missing data\n",
    "df.isna().sum()"
   ]
  },
  {
   "cell_type": "code",
   "execution_count": 5,
   "id": "6af42583",
   "metadata": {},
   "outputs": [
    {
     "data": {
      "text/html": [
       "<div>\n",
       "<style scoped>\n",
       "    .dataframe tbody tr th:only-of-type {\n",
       "        vertical-align: middle;\n",
       "    }\n",
       "\n",
       "    .dataframe tbody tr th {\n",
       "        vertical-align: top;\n",
       "    }\n",
       "\n",
       "    .dataframe thead th {\n",
       "        text-align: right;\n",
       "    }\n",
       "</style>\n",
       "<table border=\"1\" class=\"dataframe\">\n",
       "  <thead>\n",
       "    <tr style=\"text-align: right;\">\n",
       "      <th></th>\n",
       "      <th>N</th>\n",
       "      <th>P</th>\n",
       "      <th>K</th>\n",
       "      <th>temperature</th>\n",
       "      <th>humidity</th>\n",
       "      <th>ph</th>\n",
       "      <th>rainfall</th>\n",
       "    </tr>\n",
       "  </thead>\n",
       "  <tbody>\n",
       "    <tr>\n",
       "      <th>0</th>\n",
       "      <td>1.068797</td>\n",
       "      <td>-0.344551</td>\n",
       "      <td>-0.101688</td>\n",
       "      <td>-0.935587</td>\n",
       "      <td>0.472666</td>\n",
       "      <td>0.043302</td>\n",
       "      <td>1.810361</td>\n",
       "    </tr>\n",
       "    <tr>\n",
       "      <th>1</th>\n",
       "      <td>0.933329</td>\n",
       "      <td>0.140616</td>\n",
       "      <td>-0.141185</td>\n",
       "      <td>-0.759646</td>\n",
       "      <td>0.397051</td>\n",
       "      <td>0.734873</td>\n",
       "      <td>2.242058</td>\n",
       "    </tr>\n",
       "    <tr>\n",
       "      <th>2</th>\n",
       "      <td>0.255986</td>\n",
       "      <td>0.049647</td>\n",
       "      <td>-0.081939</td>\n",
       "      <td>-0.515898</td>\n",
       "      <td>0.486954</td>\n",
       "      <td>1.771510</td>\n",
       "      <td>2.921066</td>\n",
       "    </tr>\n",
       "    <tr>\n",
       "      <th>3</th>\n",
       "      <td>0.635298</td>\n",
       "      <td>-0.556811</td>\n",
       "      <td>-0.160933</td>\n",
       "      <td>0.172807</td>\n",
       "      <td>0.389805</td>\n",
       "      <td>0.660308</td>\n",
       "      <td>2.537048</td>\n",
       "    </tr>\n",
       "    <tr>\n",
       "      <th>4</th>\n",
       "      <td>0.743673</td>\n",
       "      <td>-0.344551</td>\n",
       "      <td>-0.121436</td>\n",
       "      <td>-1.083647</td>\n",
       "      <td>0.454792</td>\n",
       "      <td>1.497868</td>\n",
       "      <td>2.898373</td>\n",
       "    </tr>\n",
       "  </tbody>\n",
       "</table>\n",
       "</div>"
      ],
      "text/plain": [
       "          N         P         K  temperature  humidity        ph  rainfall\n",
       "0  1.068797 -0.344551 -0.101688    -0.935587  0.472666  0.043302  1.810361\n",
       "1  0.933329  0.140616 -0.141185    -0.759646  0.397051  0.734873  2.242058\n",
       "2  0.255986  0.049647 -0.081939    -0.515898  0.486954  1.771510  2.921066\n",
       "3  0.635298 -0.556811 -0.160933     0.172807  0.389805  0.660308  2.537048\n",
       "4  0.743673 -0.344551 -0.121436    -1.083647  0.454792  1.497868  2.898373"
      ]
     },
     "execution_count": 5,
     "metadata": {},
     "output_type": "execute_result"
    }
   ],
   "source": [
    "# data preprocessing\n",
    "from sklearn.preprocessing import StandardScaler\n",
    "\n",
    "X_standardized = X.copy()\n",
    "for col in X_standardized.columns:\n",
    "    X_standardized[col] = StandardScaler().fit_transform(X_standardized[col].values.reshape(-1, 1))\n",
    "    \n",
    "X_standardized.head()"
   ]
  },
  {
   "cell_type": "code",
   "execution_count": 7,
   "id": "7fc98f5f",
   "metadata": {},
   "outputs": [
    {
     "data": {
      "text/html": [
       "<div>\n",
       "<style scoped>\n",
       "    .dataframe tbody tr th:only-of-type {\n",
       "        vertical-align: middle;\n",
       "    }\n",
       "\n",
       "    .dataframe tbody tr th {\n",
       "        vertical-align: top;\n",
       "    }\n",
       "\n",
       "    .dataframe thead th {\n",
       "        text-align: right;\n",
       "    }\n",
       "</style>\n",
       "<table border=\"1\" class=\"dataframe\">\n",
       "  <thead>\n",
       "    <tr style=\"text-align: right;\">\n",
       "      <th></th>\n",
       "      <th>pc_1</th>\n",
       "      <th>pc_2</th>\n",
       "      <th>pc_3</th>\n",
       "      <th>Pc_4</th>\n",
       "      <th>label</th>\n",
       "    </tr>\n",
       "  </thead>\n",
       "  <tbody>\n",
       "    <tr>\n",
       "      <th>0</th>\n",
       "      <td>-0.582869</td>\n",
       "      <td>-0.844586</td>\n",
       "      <td>1.373343</td>\n",
       "      <td>-1.614129</td>\n",
       "      <td>rice</td>\n",
       "    </tr>\n",
       "    <tr>\n",
       "      <th>1</th>\n",
       "      <td>-0.474635</td>\n",
       "      <td>-0.784895</td>\n",
       "      <td>1.252178</td>\n",
       "      <td>-1.792762</td>\n",
       "      <td>rice</td>\n",
       "    </tr>\n",
       "    <tr>\n",
       "      <th>2</th>\n",
       "      <td>-0.634068</td>\n",
       "      <td>-0.694522</td>\n",
       "      <td>1.179332</td>\n",
       "      <td>-1.818106</td>\n",
       "      <td>rice</td>\n",
       "    </tr>\n",
       "    <tr>\n",
       "      <th>3</th>\n",
       "      <td>-1.047920</td>\n",
       "      <td>-1.087658</td>\n",
       "      <td>1.393351</td>\n",
       "      <td>-0.982401</td>\n",
       "      <td>rice</td>\n",
       "    </tr>\n",
       "    <tr>\n",
       "      <th>4</th>\n",
       "      <td>-0.873258</td>\n",
       "      <td>-0.658673</td>\n",
       "      <td>1.455685</td>\n",
       "      <td>-2.335012</td>\n",
       "      <td>rice</td>\n",
       "    </tr>\n",
       "    <tr>\n",
       "      <th>...</th>\n",
       "      <td>...</td>\n",
       "      <td>...</td>\n",
       "      <td>...</td>\n",
       "      <td>...</td>\n",
       "      <td>...</td>\n",
       "    </tr>\n",
       "    <tr>\n",
       "      <th>2195</th>\n",
       "      <td>-1.260921</td>\n",
       "      <td>-0.618363</td>\n",
       "      <td>0.711297</td>\n",
       "      <td>-1.014970</td>\n",
       "      <td>coffee</td>\n",
       "    </tr>\n",
       "    <tr>\n",
       "      <th>2196</th>\n",
       "      <td>-1.355583</td>\n",
       "      <td>-0.154043</td>\n",
       "      <td>0.701649</td>\n",
       "      <td>-0.197683</td>\n",
       "      <td>coffee</td>\n",
       "    </tr>\n",
       "    <tr>\n",
       "      <th>2197</th>\n",
       "      <td>-1.158384</td>\n",
       "      <td>-0.640475</td>\n",
       "      <td>1.045840</td>\n",
       "      <td>-1.301841</td>\n",
       "      <td>coffee</td>\n",
       "    </tr>\n",
       "    <tr>\n",
       "      <th>2198</th>\n",
       "      <td>-1.219188</td>\n",
       "      <td>0.052390</td>\n",
       "      <td>0.180855</td>\n",
       "      <td>-0.990499</td>\n",
       "      <td>coffee</td>\n",
       "    </tr>\n",
       "    <tr>\n",
       "      <th>2199</th>\n",
       "      <td>-1.373004</td>\n",
       "      <td>0.055818</td>\n",
       "      <td>0.500654</td>\n",
       "      <td>-1.219230</td>\n",
       "      <td>coffee</td>\n",
       "    </tr>\n",
       "  </tbody>\n",
       "</table>\n",
       "<p>2200 rows × 5 columns</p>\n",
       "</div>"
      ],
      "text/plain": [
       "          pc_1      pc_2      pc_3      Pc_4   label\n",
       "0    -0.582869 -0.844586  1.373343 -1.614129    rice\n",
       "1    -0.474635 -0.784895  1.252178 -1.792762    rice\n",
       "2    -0.634068 -0.694522  1.179332 -1.818106    rice\n",
       "3    -1.047920 -1.087658  1.393351 -0.982401    rice\n",
       "4    -0.873258 -0.658673  1.455685 -2.335012    rice\n",
       "...        ...       ...       ...       ...     ...\n",
       "2195 -1.260921 -0.618363  0.711297 -1.014970  coffee\n",
       "2196 -1.355583 -0.154043  0.701649 -0.197683  coffee\n",
       "2197 -1.158384 -0.640475  1.045840 -1.301841  coffee\n",
       "2198 -1.219188  0.052390  0.180855 -0.990499  coffee\n",
       "2199 -1.373004  0.055818  0.500654 -1.219230  coffee\n",
       "\n",
       "[2200 rows x 5 columns]"
      ]
     },
     "execution_count": 7,
     "metadata": {},
     "output_type": "execute_result"
    }
   ],
   "source": [
    "from sklearn.decomposition import PCA\n",
    "\n",
    "pca = PCA(n_components=4)\n",
    "df_pcs = pca.fit_transform(X_standardized.values)\n",
    "df_pca = pd.DataFrame(data = df_pcs, columns = [\"pc_1\", \"pc_2\", \"pc_3\",\"Pc_4\"])\n",
    "\n",
    "df_pca = pd.concat([df_pca, y], axis = 1)\n",
    "df_pca"
   ]
  },
  {
   "cell_type": "code",
   "execution_count": 8,
   "id": "94faca4a",
   "metadata": {},
   "outputs": [],
   "source": [
    "# train-test split\n",
    "from sklearn.model_selection import train_test_split\n",
    "X_train, X_test, y_train, y_test = train_test_split(X, y, train_size=0.8, random_state=42)"
   ]
  },
  {
   "cell_type": "code",
   "execution_count": 9,
   "id": "05d25422",
   "metadata": {},
   "outputs": [
    {
     "name": "stdout",
     "output_type": "stream",
     "text": [
      "Accuracy: 0.9795454545454545\n",
      "['apple' 'banana' 'blackgram' 'chickpea' 'coconut' 'coffee' 'cotton'\n",
      " 'grapes' 'jute' 'kidneybeans' 'lentil' 'maize' 'mango' 'mothbeans'\n",
      " 'mungbean' 'muskmelon' 'orange' 'papaya' 'pigeonpeas' 'pomegranate'\n",
      " 'rice' 'watermelon']\n"
     ]
    }
   ],
   "source": [
    "from sklearn.svm import SVC\n",
    "from sklearn import metrics\n",
    "svc = SVC(kernel='linear') # Linear Kernel\n",
    "y_pred = svc.fit(X_train, y_train).predict(X_test)\n",
    "\n",
    "svc_accuracy = metrics.accuracy_score(y_test, y_pred)\n",
    "print(\"Accuracy:\", svc_accuracy)\n",
    "print(np.unique(y_pred))"
   ]
  },
  {
   "cell_type": "code",
   "execution_count": 10,
   "id": "2955e976",
   "metadata": {},
   "outputs": [
    {
     "name": "stdout",
     "output_type": "stream",
     "text": [
      "              precision    recall  f1-score   support\n",
      "\n",
      "       apple       1.00      1.00      1.00        23\n",
      "      banana       1.00      1.00      1.00        21\n",
      "   blackgram       1.00      0.95      0.98        21\n",
      "    chickpea       1.00      1.00      1.00        26\n",
      "     coconut       1.00      1.00      1.00        27\n",
      "      coffee       1.00      0.94      0.97        18\n",
      "      cotton       1.00      0.94      0.97        18\n",
      "      grapes       1.00      1.00      1.00        14\n",
      "        jute       0.87      0.87      0.87        23\n",
      " kidneybeans       1.00      1.00      1.00        20\n",
      "      lentil       1.00      1.00      1.00        11\n",
      "       maize       0.95      1.00      0.98        20\n",
      "       mango       1.00      0.95      0.97        20\n",
      "   mothbeans       1.00      1.00      1.00        24\n",
      "    mungbean       1.00      1.00      1.00        19\n",
      "   muskmelon       1.00      1.00      1.00        17\n",
      "      orange       1.00      1.00      1.00        14\n",
      "      papaya       1.00      0.96      0.98        24\n",
      "  pigeonpeas       0.91      1.00      0.95        21\n",
      " pomegranate       1.00      1.00      1.00        23\n",
      "        rice       0.84      0.94      0.89        17\n",
      "  watermelon       1.00      1.00      1.00        19\n",
      "\n",
      "    accuracy                           0.98       440\n",
      "   macro avg       0.98      0.98      0.98       440\n",
      "weighted avg       0.98      0.98      0.98       440\n",
      " 0.9795454545454545\n"
     ]
    }
   ],
   "source": [
    "from sklearn import metrics\n",
    "print(metrics.classification_report(y_pred, y_test),metrics.accuracy_score(y_test, y_pred))"
   ]
  },
  {
   "cell_type": "code",
   "execution_count": 11,
   "id": "533f79fd",
   "metadata": {},
   "outputs": [
    {
     "data": {
      "text/plain": [
       "['soil_crop.pkl']"
      ]
     },
     "execution_count": 11,
     "metadata": {},
     "output_type": "execute_result"
    }
   ],
   "source": [
    "from joblib import Parallel, delayed\n",
    "import joblib\n",
    "  \n",
    "#saving the model as pickle file soil_crop.pkl  \n",
    "\n",
    "joblib.dump(svc, 'soil_crop.pkl')"
   ]
  },
  {
   "cell_type": "code",
   "execution_count": 27,
   "id": "91431ebb",
   "metadata": {},
   "outputs": [
    {
     "name": "stdout",
     "output_type": "stream",
     "text": [
      "N                     22\n",
      "P                     51\n",
      "K                     16\n",
      "temperature    27.965837\n",
      "humidity       61.349001\n",
      "ph              8.639586\n",
      "rainfall       70.104721\n",
      "label          mothbeans\n",
      "Name: 596, dtype: object\n"
     ]
    },
    {
     "data": {
      "text/plain": [
       "array(['mothbeans'], dtype=object)"
      ]
     },
     "execution_count": 27,
     "metadata": {},
     "output_type": "execute_result"
    }
   ],
   "source": [
    "# Load the model from the file\n",
    "from random import *\n",
    "\n",
    "Model = joblib.load('soil_crop.pkl')\n",
    "\n",
    "x = randint(1,2000)\n",
    "print(df.iloc[x])\n",
    "# Use the loaded model to make predictions\n",
    "Model.predict([df.loc[x,df.columns!='label']])"
   ]
  },
  {
   "cell_type": "code",
   "execution_count": 44,
   "id": "651fb561",
   "metadata": {},
   "outputs": [
    {
     "data": {
      "image/png": "[encoded data removed]",
      "text/plain": [
       "<Figure size 432x288 with 1 Axes>"
      ]
     },
     "metadata": {
      "needs_background": "light"
     },
     "output_type": "display_data"
    }
   ],
   "source": [
    "from sklearn.model_selection import validation_curve\n",
    "from matplotlib import pyplot as plt\n",
    "param_range = np.logspace(-6, -1, 5)\n",
    "\n",
    "# Calculate the training and validation scores for each value of the hyperparameter\n",
    "train_scores, test_scores = validation_curve(SVC(gamma=0.1), X_train, y_train,\n",
    "                                             param_name='gamma',\n",
    "                                             param_range=param_range,\n",
    "                                             cv=3)\n",
    "\n",
    "plt.plot(param_range, np.mean(train_scores, axis=1), label='Training score')\n",
    "plt.plot(param_range, np.mean(test_scores, axis=1), label='Validation score')\n",
    "plt.xlabel('Gamma')\n",
    "plt.ylabel('Accuracy')\n",
    "plt.legend()\n",
    "plt.show()"
   ]
  },
  {
   "cell_type": "code",
   "execution_count": null,
   "id": "aedb5fc4",
   "metadata": {},
   "outputs": [],
   "source": []
  }
 ],
 "metadata": {
  "kernelspec": {
   "display_name": "Python 3 (ipykernel)",
   "language": "python",
   "name": "python3"
  },
  "language_info": {
   "codemirror_mode": {
    "name": "ipython",
    "version": 3
   },
   "file_extension": ".py",
   "mimetype": "text/x-python",
   "name": "python",
   "nbconvert_exporter": "python",
   "pygments_lexer": "ipython3",
   "version": "3.9.7"
  }
 },
 "nbformat": 4,
 "nbformat_minor": 5
}
